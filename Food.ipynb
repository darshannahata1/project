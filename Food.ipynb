{
 "cells": [
  {
   "cell_type": "code",
   "execution_count": 1,
   "id": "127f78e5-68a9-44b7-8229-622b5d149bf0",
   "metadata": {},
   "outputs": [],
   "source": [
    "import numpy as np\n",
    "import pandas as pd\n"
   ]
  },
  {
   "cell_type": "code",
   "execution_count": 2,
   "id": "473f0a91-310c-47f6-acf6-e68f0fc55c10",
   "metadata": {
    "tags": []
   },
   "outputs": [
    {
     "data": {
      "text/html": [
       "<div>\n",
       "<style scoped>\n",
       "    .dataframe tbody tr th:only-of-type {\n",
       "        vertical-align: middle;\n",
       "    }\n",
       "\n",
       "    .dataframe tbody tr th {\n",
       "        vertical-align: top;\n",
       "    }\n",
       "\n",
       "    .dataframe thead th {\n",
       "        text-align: right;\n",
       "    }\n",
       "</style>\n",
       "<table border=\"1\" class=\"dataframe\">\n",
       "  <thead>\n",
       "    <tr style=\"text-align: right;\">\n",
       "      <th></th>\n",
       "      <th>S.NO.</th>\n",
       "      <th>name</th>\n",
       "      <th>price</th>\n",
       "      <th>location</th>\n",
       "      <th>colour</th>\n",
       "      <th>cuisine</th>\n",
       "      <th>taste</th>\n",
       "      <th>rating</th>\n",
       "    </tr>\n",
       "  </thead>\n",
       "  <tbody>\n",
       "    <tr>\n",
       "      <th>0</th>\n",
       "      <td>1</td>\n",
       "      <td>namkeen</td>\n",
       "      <td>100</td>\n",
       "      <td>bikaner</td>\n",
       "      <td>yellow</td>\n",
       "      <td>bikaneri</td>\n",
       "      <td>spicy</td>\n",
       "      <td>4.5</td>\n",
       "    </tr>\n",
       "    <tr>\n",
       "      <th>1</th>\n",
       "      <td>2</td>\n",
       "      <td>kachori</td>\n",
       "      <td>30</td>\n",
       "      <td>jaipur</td>\n",
       "      <td>orange</td>\n",
       "      <td>jaipuri</td>\n",
       "      <td>spicy</td>\n",
       "      <td>5.0</td>\n",
       "    </tr>\n",
       "    <tr>\n",
       "      <th>2</th>\n",
       "      <td>3</td>\n",
       "      <td>paneer</td>\n",
       "      <td>80</td>\n",
       "      <td>ajmer</td>\n",
       "      <td>white</td>\n",
       "      <td>ajmeri</td>\n",
       "      <td>sweet</td>\n",
       "      <td>4.0</td>\n",
       "    </tr>\n",
       "    <tr>\n",
       "      <th>3</th>\n",
       "      <td>4</td>\n",
       "      <td>dhokla</td>\n",
       "      <td>20</td>\n",
       "      <td>gujrat</td>\n",
       "      <td>yellow</td>\n",
       "      <td>gujrati</td>\n",
       "      <td>yummy</td>\n",
       "      <td>3.5</td>\n",
       "    </tr>\n",
       "    <tr>\n",
       "      <th>4</th>\n",
       "      <td>5</td>\n",
       "      <td>dal bhati</td>\n",
       "      <td>150</td>\n",
       "      <td>rajasthan</td>\n",
       "      <td>brown</td>\n",
       "      <td>rajasthani</td>\n",
       "      <td>spicy</td>\n",
       "      <td>5.0</td>\n",
       "    </tr>\n",
       "    <tr>\n",
       "      <th>5</th>\n",
       "      <td>6</td>\n",
       "      <td>pizza</td>\n",
       "      <td>200</td>\n",
       "      <td>italy</td>\n",
       "      <td>white</td>\n",
       "      <td>italian</td>\n",
       "      <td>yummy</td>\n",
       "      <td>5.0</td>\n",
       "    </tr>\n",
       "    <tr>\n",
       "      <th>6</th>\n",
       "      <td>7</td>\n",
       "      <td>pasta</td>\n",
       "      <td>180</td>\n",
       "      <td>italy</td>\n",
       "      <td>red</td>\n",
       "      <td>italian</td>\n",
       "      <td>spicy</td>\n",
       "      <td>4.7</td>\n",
       "    </tr>\n",
       "    <tr>\n",
       "      <th>7</th>\n",
       "      <td>8</td>\n",
       "      <td>gulab jamun</td>\n",
       "      <td>50</td>\n",
       "      <td>jaipur</td>\n",
       "      <td>brown</td>\n",
       "      <td>jaipuri</td>\n",
       "      <td>sweet</td>\n",
       "      <td>4.8</td>\n",
       "    </tr>\n",
       "    <tr>\n",
       "      <th>8</th>\n",
       "      <td>9</td>\n",
       "      <td>rasgulla</td>\n",
       "      <td>70</td>\n",
       "      <td>bikaner</td>\n",
       "      <td>white</td>\n",
       "      <td>bikaneri</td>\n",
       "      <td>sweet</td>\n",
       "      <td>4.9</td>\n",
       "    </tr>\n",
       "  </tbody>\n",
       "</table>\n",
       "</div>"
      ],
      "text/plain": [
       "   S.NO.         name  price   location  colour     cuisine  taste  rating\n",
       "0      1      namkeen    100    bikaner  yellow    bikaneri  spicy     4.5\n",
       "1      2      kachori     30     jaipur  orange     jaipuri  spicy     5.0\n",
       "2      3       paneer     80      ajmer   white      ajmeri  sweet     4.0\n",
       "3      4       dhokla     20     gujrat  yellow     gujrati  yummy     3.5\n",
       "4      5    dal bhati    150  rajasthan   brown  rajasthani  spicy     5.0\n",
       "5      6        pizza    200      italy   white     italian  yummy     5.0\n",
       "6      7        pasta    180      italy     red     italian  spicy     4.7\n",
       "7      8  gulab jamun     50     jaipur   brown     jaipuri  sweet     4.8\n",
       "8      9     rasgulla     70    bikaner   white    bikaneri  sweet     4.9"
      ]
     },
     "execution_count": 2,
     "metadata": {},
     "output_type": "execute_result"
    }
   ],
   "source": [
    "df = pd.read_excel('food.xlsx')\n",
    "df"
   ]
  },
  {
   "cell_type": "markdown",
   "id": "6e34f1c1-3715-464a-ae83-44b748bce47e",
   "metadata": {
    "tags": []
   },
   "source": [
    "# COSTLIEST FOOD\n"
   ]
  },
  {
   "cell_type": "code",
   "execution_count": 3,
   "id": "19a04f70-68c2-4879-93df-16d21766ff48",
   "metadata": {},
   "outputs": [
    {
     "data": {
      "text/plain": [
       "'pizza'"
      ]
     },
     "execution_count": 3,
     "metadata": {},
     "output_type": "execute_result"
    }
   ],
   "source": [
    "df.loc[df['price'].idxmax(),'name']"
   ]
  },
  {
   "cell_type": "markdown",
   "id": "fde26543-5162-4c77-9763-c2b9bec26ee6",
   "metadata": {},
   "source": [
    "# CHEAPEST FOOD"
   ]
  },
  {
   "cell_type": "code",
   "execution_count": 4,
   "id": "c42bfe48-1499-45de-a8e1-9f87de97ddee",
   "metadata": {},
   "outputs": [
    {
     "data": {
      "text/plain": [
       "'dhokla'"
      ]
     },
     "execution_count": 4,
     "metadata": {},
     "output_type": "execute_result"
    }
   ],
   "source": [
    "df.loc[df['price'].idxmin(),'name']"
   ]
  },
  {
   "cell_type": "markdown",
   "id": "474ad880-e3ac-44e8-aaf1-3d07f03ca50a",
   "metadata": {},
   "source": [
    "# ORANGE FOOD IN JAIPUR"
   ]
  },
  {
   "cell_type": "code",
   "execution_count": 5,
   "id": "82fb6acf-63de-4da5-aa1d-063b149881a3",
   "metadata": {},
   "outputs": [
    {
     "data": {
      "text/html": [
       "<div>\n",
       "<style scoped>\n",
       "    .dataframe tbody tr th:only-of-type {\n",
       "        vertical-align: middle;\n",
       "    }\n",
       "\n",
       "    .dataframe tbody tr th {\n",
       "        vertical-align: top;\n",
       "    }\n",
       "\n",
       "    .dataframe thead th {\n",
       "        text-align: right;\n",
       "    }\n",
       "</style>\n",
       "<table border=\"1\" class=\"dataframe\">\n",
       "  <thead>\n",
       "    <tr style=\"text-align: right;\">\n",
       "      <th></th>\n",
       "      <th>S.NO.</th>\n",
       "      <th>name</th>\n",
       "      <th>price</th>\n",
       "      <th>location</th>\n",
       "      <th>colour</th>\n",
       "      <th>cuisine</th>\n",
       "      <th>taste</th>\n",
       "      <th>rating</th>\n",
       "    </tr>\n",
       "  </thead>\n",
       "  <tbody>\n",
       "    <tr>\n",
       "      <th>1</th>\n",
       "      <td>2</td>\n",
       "      <td>kachori</td>\n",
       "      <td>30</td>\n",
       "      <td>jaipur</td>\n",
       "      <td>orange</td>\n",
       "      <td>jaipuri</td>\n",
       "      <td>spicy</td>\n",
       "      <td>5.0</td>\n",
       "    </tr>\n",
       "  </tbody>\n",
       "</table>\n",
       "</div>"
      ],
      "text/plain": [
       "   S.NO.     name  price location  colour  cuisine  taste  rating\n",
       "1      2  kachori     30   jaipur  orange  jaipuri  spicy     5.0"
      ]
     },
     "execution_count": 5,
     "metadata": {},
     "output_type": "execute_result"
    }
   ],
   "source": [
    "df[(df['location']=='jaipur') & (df['colour']=='orange')]"
   ]
  },
  {
   "cell_type": "markdown",
   "id": "c00a712b-dd9c-4cfe-a812-dd916f7a6ddb",
   "metadata": {},
   "source": [
    "# which cusine is most poplular"
   ]
  },
  {
   "cell_type": "code",
   "execution_count": 6,
   "id": "9206c4bc-3784-4bab-8609-280165ff1127",
   "metadata": {},
   "outputs": [
    {
     "name": "stdout",
     "output_type": "stream",
     "text": [
      "Most Popular Cuisine =  jaipuri\n",
      "Most Popular Cuisine =  rajasthani\n",
      "Most Popular Cuisine =  italian\n"
     ]
    }
   ],
   "source": [
    "for x in df.index:\n",
    "    if df.loc[x,'rating']==df[\"rating\"].max():\n",
    "          print('Most Popular Cuisine = ',df.loc[x,'cuisine'])"
   ]
  },
  {
   "cell_type": "markdown",
   "id": "cdfa7ba7-2ff5-4b43-90c5-7daaaaada8a0",
   "metadata": {},
   "source": [
    "# count of taste"
   ]
  },
  {
   "cell_type": "code",
   "execution_count": 7,
   "id": "89259541-5034-49c4-bb65-894330a77e76",
   "metadata": {},
   "outputs": [
    {
     "data": {
      "text/plain": [
       "spicy    4\n",
       "sweet    3\n",
       "yummy    2\n",
       "Name: taste, dtype: int64"
      ]
     },
     "execution_count": 7,
     "metadata": {},
     "output_type": "execute_result"
    }
   ],
   "source": [
    "df['taste'].value_counts()"
   ]
  },
  {
   "cell_type": "markdown",
   "id": "8e5cc236-622c-4a3e-a3f2-92e09698e737",
   "metadata": {},
   "source": [
    "# food avaliable in jpr and is sweet"
   ]
  },
  {
   "cell_type": "code",
   "execution_count": 8,
   "id": "23174866-04af-4fcc-a08b-de3b777bda41",
   "metadata": {},
   "outputs": [
    {
     "data": {
      "text/html": [
       "<div>\n",
       "<style scoped>\n",
       "    .dataframe tbody tr th:only-of-type {\n",
       "        vertical-align: middle;\n",
       "    }\n",
       "\n",
       "    .dataframe tbody tr th {\n",
       "        vertical-align: top;\n",
       "    }\n",
       "\n",
       "    .dataframe thead th {\n",
       "        text-align: right;\n",
       "    }\n",
       "</style>\n",
       "<table border=\"1\" class=\"dataframe\">\n",
       "  <thead>\n",
       "    <tr style=\"text-align: right;\">\n",
       "      <th></th>\n",
       "      <th>S.NO.</th>\n",
       "      <th>name</th>\n",
       "      <th>price</th>\n",
       "      <th>location</th>\n",
       "      <th>colour</th>\n",
       "      <th>cuisine</th>\n",
       "      <th>taste</th>\n",
       "      <th>rating</th>\n",
       "    </tr>\n",
       "  </thead>\n",
       "  <tbody>\n",
       "    <tr>\n",
       "      <th>7</th>\n",
       "      <td>8</td>\n",
       "      <td>gulab jamun</td>\n",
       "      <td>50</td>\n",
       "      <td>jaipur</td>\n",
       "      <td>brown</td>\n",
       "      <td>jaipuri</td>\n",
       "      <td>sweet</td>\n",
       "      <td>4.8</td>\n",
       "    </tr>\n",
       "  </tbody>\n",
       "</table>\n",
       "</div>"
      ],
      "text/plain": [
       "   S.NO.         name  price location colour  cuisine  taste  rating\n",
       "7      8  gulab jamun     50   jaipur  brown  jaipuri  sweet     4.8"
      ]
     },
     "execution_count": 8,
     "metadata": {},
     "output_type": "execute_result"
    }
   ],
   "source": [
    "df[(df['location']=='jaipur') & (df['taste']=='sweet')]"
   ]
  },
  {
   "cell_type": "code",
   "execution_count": null,
   "id": "eb981c7c-b835-4d0b-9f2e-e92b563e2825",
   "metadata": {},
   "outputs": [],
   "source": []
  }
 ],
 "metadata": {
  "kernelspec": {
   "display_name": "Python 3",
   "language": "python",
   "name": "python3"
  },
  "language_info": {
   "codemirror_mode": {
    "name": "ipython",
    "version": 3
   },
   "file_extension": ".py",
   "mimetype": "text/x-python",
   "name": "python",
   "nbconvert_exporter": "python",
   "pygments_lexer": "ipython3",
   "version": "3.8.10"
  }
 },
 "nbformat": 4,
 "nbformat_minor": 5
}
