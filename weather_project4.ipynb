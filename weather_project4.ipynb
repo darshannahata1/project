{
 "cells": [
  {
   "cell_type": "code",
   "execution_count": 2,
   "id": "79890a5a",
   "metadata": {},
   "outputs": [],
   "source": [
    "import pandas as pd\n",
    "import matplotlib.pyplot as plt\n",
    "import seaborn as sns\n",
    "import numpy as np\n",
    "import missingno as msno"
   ]
  },
  {
   "cell_type": "code",
   "execution_count": null,
   "id": "41b07881",
   "metadata": {},
   "outputs": [],
   "source": [
    "weather= pd.read_csv('weather delhi.csv')\n",
    "weather.head()"
   ]
  },
  {
   "cell_type": "code",
   "execution_count": null,
   "id": "42f74fc7",
   "metadata": {},
   "outputs": [],
   "source": [
    "weather.info()"
   ]
  },
  {
   "cell_type": "code",
   "execution_count": null,
   "id": "42d1385a",
   "metadata": {},
   "outputs": [],
   "source": [
    "weather.columns = map(lambda x: x.strip(), weather.columns)"
   ]
  },
  {
   "cell_type": "code",
   "execution_count": null,
   "id": "4964e7a1",
   "metadata": {},
   "outputs": [],
   "source": [
    "weather.describe().T"
   ]
  },
  {
   "cell_type": "code",
   "execution_count": null,
   "id": "139c282e",
   "metadata": {},
   "outputs": [],
   "source": [
    "weather.nunique()"
   ]
  },
  {
   "cell_type": "code",
   "execution_count": null,
   "id": "230aeb9f",
   "metadata": {},
   "outputs": [],
   "source": [
    "weather=weather.drop(['_heatindexm','_precipm','_wgustm','_windchillm','_wdire'],axis=1)\n",
    "weather.head()"
   ]
  },
  {
   "cell_type": "code",
   "execution_count": null,
   "id": "8546a048",
   "metadata": {},
   "outputs": [],
   "source": [
    "weather.isnull().sum()"
   ]
  },
  {
   "cell_type": "code",
   "execution_count": null,
   "id": "d0562cbe",
   "metadata": {},
   "outputs": [],
   "source": [
    "weather.columns"
   ]
  },
  {
   "cell_type": "code",
   "execution_count": null,
   "id": "bec2cb0b",
   "metadata": {},
   "outputs": [],
   "source": [
    "def extract_year(value):\n",
    "    return (value[0:4])\n",
    "def extract_month(value):\n",
    "    return (value[4:6])"
   ]
  },
  {
   "cell_type": "code",
   "execution_count": null,
   "id": "80768048",
   "metadata": {},
   "outputs": [],
   "source": [
    "weather[\"year\"] = weather['datetime_utc'].apply(lambda x:extract_year(x))\n",
    "weather[\"month\"] = weather['datetime_utc'].apply(lambda x:extract_month(x))"
   ]
  },
  {
   "cell_type": "code",
   "execution_count": null,
   "id": "d8923cee",
   "metadata": {},
   "outputs": [],
   "source": [
    "weather.head()"
   ]
  },
  {
   "cell_type": "code",
   "execution_count": null,
   "id": "1ed284cd",
   "metadata": {},
   "outputs": [],
   "source": [
    "weather=weather.drop(['datetime_utc'],axis=1)\n",
    "weather.head()"
   ]
  },
  {
   "cell_type": "code",
   "execution_count": null,
   "id": "c7641325",
   "metadata": {},
   "outputs": [],
   "source": [
    "plt.figure(figsize=(15, 10));\n",
    "weather._conds.value_counts().head(10).plot(kind='bar');\n",
    "plt.title(\"Top 10 most common weather condition\")\n",
    "plt.plot();"
   ]
  },
  {
   "cell_type": "code",
   "execution_count": null,
   "id": "c79daa29",
   "metadata": {},
   "outputs": [],
   "source": [
    "plt.figure(figsize=(15, 10));\n",
    "weather._conds.value_counts(ascending=True).head(10).plot(kind=\"bar\");\n",
    "plt.title(\"Top 10 least whether condition in delhi\");\n",
    "plt.plot();"
   ]
  },
  {
   "cell_type": "code",
   "execution_count": null,
   "id": "6a1e459e",
   "metadata": {},
   "outputs": [],
   "source": [
    "plt.figure(figsize=(15,4));\n",
    "p = sns.lineplot(x=\"year\", y=\"_dewptm\", data=weather)"
   ]
  },
  {
   "cell_type": "code",
   "execution_count": null,
   "id": "b6746b2f",
   "metadata": {},
   "outputs": [],
   "source": [
    "plt.figure(figsize=(15,4));\n",
    "p = sns.lineplot(x=\"year\", y=\"_fog\", data=weather)"
   ]
  },
  {
   "cell_type": "code",
   "execution_count": null,
   "id": "4e64551a",
   "metadata": {},
   "outputs": [],
   "source": [
    "plt.figure(figsize=(15,4));\n",
    "p = sns.lineplot(x=\"year\", y=\"_hum\", data=weather)"
   ]
  },
  {
   "cell_type": "code",
   "execution_count": null,
   "id": "eeb81b9c",
   "metadata": {},
   "outputs": [],
   "source": [
    "plt.figure(figsize=(15,4));\n",
    "p = sns.lineplot(x=\"year\", y=\"_rain\", data=weather)"
   ]
  },
  {
   "cell_type": "code",
   "execution_count": null,
   "id": "251baf88",
   "metadata": {},
   "outputs": [],
   "source": [
    "plt.figure(figsize=(20, 10))\n",
    "p = sns.countplot(x='_conds', data=weather)\n",
    "_ = plt.setp(p.get_xticklabels(), rotation=90)"
   ]
  },
  {
   "cell_type": "markdown",
   "id": "e34c98b3",
   "metadata": {},
   "source": []
  },
  {
   "cell_type": "code",
   "execution_count": null,
   "id": "2fdda0fd",
   "metadata": {},
   "outputs": [],
   "source": [
    "weather['_conds'].value_counts()"
   ]
  },
  {
   "cell_type": "code",
   "execution_count": null,
   "id": "4a3bf71b",
   "metadata": {},
   "outputs": [],
   "source": [
    "weather.nunique()"
   ]
  },
  {
   "cell_type": "code",
   "execution_count": null,
   "id": "7e567666",
   "metadata": {},
   "outputs": [],
   "source": [
    "msno.heatmap(weather)"
   ]
  },
  {
   "cell_type": "code",
   "execution_count": null,
   "id": "21ae2f6b",
   "metadata": {},
   "outputs": [],
   "source": [
    "weather.ffill(inplace=True)"
   ]
  },
  {
   "cell_type": "code",
   "execution_count": null,
   "id": "f61f629c",
   "metadata": {},
   "outputs": [],
   "source": [
    "weather.isnull().sum()"
   ]
  },
  {
   "cell_type": "code",
   "execution_count": null,
   "id": "b9d9009b",
   "metadata": {},
   "outputs": [],
   "source": [
    "X = weather.iloc[:, 1:-1].values\n",
    "X.shape"
   ]
  },
  {
   "cell_type": "code",
   "execution_count": null,
   "id": "788fa70a",
   "metadata": {},
   "outputs": [],
   "source": [
    "y = weather.iloc[:, -1].values\n",
    "y.shape"
   ]
  },
  {
   "cell_type": "code",
   "execution_count": null,
   "id": "964bdb9d",
   "metadata": {},
   "outputs": [],
   "source": [
    "from sklearn.model_selection import train_test_split"
   ]
  },
  {
   "cell_type": "code",
   "execution_count": null,
   "id": "8284446d",
   "metadata": {},
   "outputs": [],
   "source": [
    "X_train, X_test, y_train, y_test = train_test_split(X, y, test_size=.25, random_state=0)"
   ]
  },
  {
   "cell_type": "code",
   "execution_count": null,
   "id": "ecd1c83c",
   "metadata": {},
   "outputs": [],
   "source": [
    "print(\"Shape of X_train\", X_train.shape)\n",
    "print(\"Shape of X_test\", X_test.shape)\n",
    "print(\"Shape of y_train\", y_train.shape)\n",
    "print(\"Shape of y_test\", y_test.shape)"
   ]
  },
  {
   "cell_type": "code",
   "execution_count": null,
   "id": "f5773167",
   "metadata": {},
   "outputs": [],
   "source": [
    "from sklearn.linear_model import LinearRegression\n",
    "from sklearn.linear_model import LogisticRegression,LogisticRegressionCV"
   ]
  },
  {
   "cell_type": "code",
   "execution_count": null,
   "id": "19b1275a",
   "metadata": {},
   "outputs": [],
   "source": [
    "model1= LinearRegression().fit(X_train,y_train)"
   ]
  },
  {
   "cell_type": "code",
   "execution_count": null,
   "id": "361eedec",
   "metadata": {},
   "outputs": [],
   "source": [
    "print('%.1f%%'%(model1.score(X_train,y_train)*100))\n",
    "print('%.1f%%'%(model1.score(X_test,y_test)*100))"
   ]
  },
  {
   "cell_type": "code",
   "execution_count": null,
   "id": "f217f511",
   "metadata": {},
   "outputs": [],
   "source": [
    "model2=  LogisticRegression().fit(X_train,y_train)"
   ]
  },
  {
   "cell_type": "code",
   "execution_count": null,
   "id": "50bfe36b",
   "metadata": {},
   "outputs": [],
   "source": [
    "print('%.1f%%'%(model2.score(X_train,y_train)*100))\n",
    "print('%.1f%%'%(model2.score(X_test,y_test)*100))"
   ]
  },
  {
   "cell_type": "code",
   "execution_count": null,
   "id": "f24b939b",
   "metadata": {},
   "outputs": [],
   "source": [
    "from sklearn.tree import DecisionTreeClassifier"
   ]
  },
  {
   "cell_type": "code",
   "execution_count": null,
   "id": "e8678a64",
   "metadata": {},
   "outputs": [],
   "source": [
    "clf = DecisionTreeClassifier(criterion=\"entropy\", random_state=0)"
   ]
  },
  {
   "cell_type": "code",
   "execution_count": null,
   "id": "82b093aa",
   "metadata": {},
   "outputs": [],
   "source": [
    "clf.fit(X_train, y_train)"
   ]
  },
  {
   "cell_type": "code",
   "execution_count": null,
   "id": "9baa32bc",
   "metadata": {},
   "outputs": [],
   "source": [
    "print('%.1f%%'%(clf.score(X_train,y_train)*100))\n",
    "print('%.1f%%'%(clf.score(X_test,y_test)*100))"
   ]
  },
  {
   "cell_type": "code",
   "execution_count": null,
   "id": "7037e00a",
   "metadata": {},
   "outputs": [],
   "source": [
    "y_pred = clf.predict(X_test)\n",
    "y_pred"
   ]
  },
  {
   "cell_type": "code",
   "execution_count": null,
   "id": "22c424a0",
   "metadata": {},
   "outputs": [],
   "source": [
    "from sklearn import metrics\n",
    "print(\"DecisionTrees's Accuracy: \", metrics.accuracy_score(y_test, y_pred)*100)"
   ]
  },
  {
   "cell_type": "code",
   "execution_count": null,
   "id": "728237f8",
   "metadata": {},
   "outputs": [],
   "source": []
  }
 ],
 "metadata": {
  "kernelspec": {
   "display_name": "Python 3",
   "language": "python",
   "name": "python3"
  },
  "language_info": {
   "codemirror_mode": {
    "name": "ipython",
    "version": 3
   },
   "file_extension": ".py",
   "mimetype": "text/x-python",
   "name": "python",
   "nbconvert_exporter": "python",
   "pygments_lexer": "ipython3",
   "version": "3.8.10"
  }
 },
 "nbformat": 4,
 "nbformat_minor": 5
}
