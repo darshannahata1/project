{
 "cells": [
  {
   "cell_type": "code",
   "execution_count": 1,
   "id": "471ad482-1e4d-4ec2-97b2-98bfce07804e",
   "metadata": {},
   "outputs": [],
   "source": [
    "##  wav file format to process sound\n",
    "##  pydub --> python library to convert from mp3 to wav format\n",
    "##  Reading sound data --> IPython,librosa\n",
    "## for sound recording--> pyaudio,soundevice"
   ]
  },
  {
   "cell_type": "code",
   "execution_count": 7,
   "id": "3139372d-519e-4083-aa84-39c88a7797d3",
   "metadata": {},
   "outputs": [
    {
     "ename": "PermissionError",
     "evalue": "[Errno 13] Permission denied: 'D:\\\\mix'",
     "output_type": "error",
     "traceback": [
      "\u001b[1;31m---------------------------------------------------------------------------\u001b[0m",
      "\u001b[1;31mPermissionError\u001b[0m                           Traceback (most recent call last)",
      "\u001b[1;32m<ipython-input-7-23b63932fd4f>\u001b[0m in \u001b[0;36m<module>\u001b[1;34m\u001b[0m\n\u001b[0;32m      1\u001b[0m \u001b[1;32mimport\u001b[0m \u001b[0mIPython\u001b[0m\u001b[1;33m.\u001b[0m\u001b[0mdisplay\u001b[0m \u001b[1;32mas\u001b[0m \u001b[0mipd\u001b[0m\u001b[1;33m\u001b[0m\u001b[1;33m\u001b[0m\u001b[0m\n\u001b[0;32m      2\u001b[0m \u001b[1;32mimport\u001b[0m \u001b[0mwave\u001b[0m\u001b[1;33m\u001b[0m\u001b[1;33m\u001b[0m\u001b[0m\n\u001b[1;32m----> 3\u001b[1;33m \u001b[0mw\u001b[0m \u001b[1;33m=\u001b[0m \u001b[0mwave\u001b[0m\u001b[1;33m.\u001b[0m\u001b[0mopen\u001b[0m\u001b[1;33m(\u001b[0m\u001b[1;34m'D:\\mix'\u001b[0m\u001b[1;33m)\u001b[0m\u001b[1;33m\u001b[0m\u001b[1;33m\u001b[0m\u001b[0m\n\u001b[0m\u001b[0;32m      4\u001b[0m \u001b[1;32mfor\u001b[0m \u001b[0mi\u001b[0m \u001b[1;32min\u001b[0m \u001b[0mrange\u001b[0m\u001b[1;33m(\u001b[0m\u001b[0mw\u001b[0m\u001b[1;33m.\u001b[0m\u001b[0mgetnframes\u001b[0m\u001b[1;33m(\u001b[0m\u001b[1;33m)\u001b[0m\u001b[1;33m)\u001b[0m\u001b[1;33m:\u001b[0m\u001b[1;33m\u001b[0m\u001b[1;33m\u001b[0m\u001b[0m\n\u001b[0;32m      5\u001b[0m     \u001b[0mframe\u001b[0m \u001b[1;33m=\u001b[0m \u001b[0mw\u001b[0m\u001b[1;33m.\u001b[0m\u001b[0mreadframes\u001b[0m\u001b[1;33m(\u001b[0m\u001b[0mi\u001b[0m\u001b[1;33m)\u001b[0m\u001b[1;33m\u001b[0m\u001b[1;33m\u001b[0m\u001b[0m\n",
      "\u001b[1;32m~\\anaconda3\\lib\\wave.py\u001b[0m in \u001b[0;36mopen\u001b[1;34m(f, mode)\u001b[0m\n\u001b[0;32m    508\u001b[0m             \u001b[0mmode\u001b[0m \u001b[1;33m=\u001b[0m \u001b[1;34m'rb'\u001b[0m\u001b[1;33m\u001b[0m\u001b[1;33m\u001b[0m\u001b[0m\n\u001b[0;32m    509\u001b[0m     \u001b[1;32mif\u001b[0m \u001b[0mmode\u001b[0m \u001b[1;32min\u001b[0m \u001b[1;33m(\u001b[0m\u001b[1;34m'r'\u001b[0m\u001b[1;33m,\u001b[0m \u001b[1;34m'rb'\u001b[0m\u001b[1;33m)\u001b[0m\u001b[1;33m:\u001b[0m\u001b[1;33m\u001b[0m\u001b[1;33m\u001b[0m\u001b[0m\n\u001b[1;32m--> 510\u001b[1;33m         \u001b[1;32mreturn\u001b[0m \u001b[0mWave_read\u001b[0m\u001b[1;33m(\u001b[0m\u001b[0mf\u001b[0m\u001b[1;33m)\u001b[0m\u001b[1;33m\u001b[0m\u001b[1;33m\u001b[0m\u001b[0m\n\u001b[0m\u001b[0;32m    511\u001b[0m     \u001b[1;32melif\u001b[0m \u001b[0mmode\u001b[0m \u001b[1;32min\u001b[0m \u001b[1;33m(\u001b[0m\u001b[1;34m'w'\u001b[0m\u001b[1;33m,\u001b[0m \u001b[1;34m'wb'\u001b[0m\u001b[1;33m)\u001b[0m\u001b[1;33m:\u001b[0m\u001b[1;33m\u001b[0m\u001b[1;33m\u001b[0m\u001b[0m\n\u001b[0;32m    512\u001b[0m         \u001b[1;32mreturn\u001b[0m \u001b[0mWave_write\u001b[0m\u001b[1;33m(\u001b[0m\u001b[0mf\u001b[0m\u001b[1;33m)\u001b[0m\u001b[1;33m\u001b[0m\u001b[1;33m\u001b[0m\u001b[0m\n",
      "\u001b[1;32m~\\anaconda3\\lib\\wave.py\u001b[0m in \u001b[0;36m__init__\u001b[1;34m(self, f)\u001b[0m\n\u001b[0;32m    158\u001b[0m         \u001b[0mself\u001b[0m\u001b[1;33m.\u001b[0m\u001b[0m_i_opened_the_file\u001b[0m \u001b[1;33m=\u001b[0m \u001b[1;32mNone\u001b[0m\u001b[1;33m\u001b[0m\u001b[1;33m\u001b[0m\u001b[0m\n\u001b[0;32m    159\u001b[0m         \u001b[1;32mif\u001b[0m \u001b[0misinstance\u001b[0m\u001b[1;33m(\u001b[0m\u001b[0mf\u001b[0m\u001b[1;33m,\u001b[0m \u001b[0mstr\u001b[0m\u001b[1;33m)\u001b[0m\u001b[1;33m:\u001b[0m\u001b[1;33m\u001b[0m\u001b[1;33m\u001b[0m\u001b[0m\n\u001b[1;32m--> 160\u001b[1;33m             \u001b[0mf\u001b[0m \u001b[1;33m=\u001b[0m \u001b[0mbuiltins\u001b[0m\u001b[1;33m.\u001b[0m\u001b[0mopen\u001b[0m\u001b[1;33m(\u001b[0m\u001b[0mf\u001b[0m\u001b[1;33m,\u001b[0m \u001b[1;34m'rb'\u001b[0m\u001b[1;33m)\u001b[0m\u001b[1;33m\u001b[0m\u001b[1;33m\u001b[0m\u001b[0m\n\u001b[0m\u001b[0;32m    161\u001b[0m             \u001b[0mself\u001b[0m\u001b[1;33m.\u001b[0m\u001b[0m_i_opened_the_file\u001b[0m \u001b[1;33m=\u001b[0m \u001b[0mf\u001b[0m\u001b[1;33m\u001b[0m\u001b[1;33m\u001b[0m\u001b[0m\n\u001b[0;32m    162\u001b[0m         \u001b[1;31m# else, assume it is an open file object already\u001b[0m\u001b[1;33m\u001b[0m\u001b[1;33m\u001b[0m\u001b[1;33m\u001b[0m\u001b[0m\n",
      "\u001b[1;31mPermissionError\u001b[0m: [Errno 13] Permission denied: 'D:\\\\mix'"
     ]
    }
   ],
   "source": [
    "import IPython.display as ipd\n",
    "import wave\n",
    "w = wave.open('D:\\mix')\n",
    "for i in range(w.getnframes()):\n",
    "    frame = w.readframes(i)\n",
    "    print (frame)"
   ]
  },
  {
   "cell_type": "code",
   "execution_count": 3,
   "id": "7761a89b-c7a0-4703-bcf2-f65de86170df",
   "metadata": {},
   "outputs": [
    {
     "ename": "ValueError",
     "evalue": "rate must be specified when data is a numpy array or list of audio samples.",
     "output_type": "error",
     "traceback": [
      "\u001b[1;31m---------------------------------------------------------------------------\u001b[0m",
      "\u001b[1;31mValueError\u001b[0m                                Traceback (most recent call last)",
      "\u001b[1;32m<ipython-input-3-b47679c7c75f>\u001b[0m in \u001b[0;36m<module>\u001b[1;34m\u001b[0m\n\u001b[1;32m----> 1\u001b[1;33m \u001b[0mipd\u001b[0m\u001b[1;33m.\u001b[0m\u001b[0mAudio\u001b[0m\u001b[1;33m(\u001b[0m\u001b[1;34m'GTZAN/Data/genres_original/blues/blues.00000.wav'\u001b[0m\u001b[1;33m)\u001b[0m\u001b[1;33m\u001b[0m\u001b[1;33m\u001b[0m\u001b[0m\n\u001b[0m",
      "\u001b[1;32m~\\anaconda3\\lib\\site-packages\\IPython\\lib\\display.py\u001b[0m in \u001b[0;36m__init__\u001b[1;34m(self, data, filename, url, embed, rate, autoplay, normalize, element_id)\u001b[0m\n\u001b[0;32m    114\u001b[0m         \u001b[1;32mif\u001b[0m \u001b[0mself\u001b[0m\u001b[1;33m.\u001b[0m\u001b[0mdata\u001b[0m \u001b[1;32mis\u001b[0m \u001b[1;32mnot\u001b[0m \u001b[1;32mNone\u001b[0m \u001b[1;32mand\u001b[0m \u001b[1;32mnot\u001b[0m \u001b[0misinstance\u001b[0m\u001b[1;33m(\u001b[0m\u001b[0mself\u001b[0m\u001b[1;33m.\u001b[0m\u001b[0mdata\u001b[0m\u001b[1;33m,\u001b[0m \u001b[0mbytes\u001b[0m\u001b[1;33m)\u001b[0m\u001b[1;33m:\u001b[0m\u001b[1;33m\u001b[0m\u001b[1;33m\u001b[0m\u001b[0m\n\u001b[0;32m    115\u001b[0m             \u001b[1;32mif\u001b[0m \u001b[0mrate\u001b[0m \u001b[1;32mis\u001b[0m \u001b[1;32mNone\u001b[0m\u001b[1;33m:\u001b[0m\u001b[1;33m\u001b[0m\u001b[1;33m\u001b[0m\u001b[0m\n\u001b[1;32m--> 116\u001b[1;33m                 \u001b[1;32mraise\u001b[0m \u001b[0mValueError\u001b[0m\u001b[1;33m(\u001b[0m\u001b[1;34m\"rate must be specified when data is a numpy array or list of audio samples.\"\u001b[0m\u001b[1;33m)\u001b[0m\u001b[1;33m\u001b[0m\u001b[1;33m\u001b[0m\u001b[0m\n\u001b[0m\u001b[0;32m    117\u001b[0m             \u001b[0mself\u001b[0m\u001b[1;33m.\u001b[0m\u001b[0mdata\u001b[0m \u001b[1;33m=\u001b[0m \u001b[0mAudio\u001b[0m\u001b[1;33m.\u001b[0m\u001b[0m_make_wav\u001b[0m\u001b[1;33m(\u001b[0m\u001b[0mdata\u001b[0m\u001b[1;33m,\u001b[0m \u001b[0mrate\u001b[0m\u001b[1;33m,\u001b[0m \u001b[0mnormalize\u001b[0m\u001b[1;33m)\u001b[0m\u001b[1;33m\u001b[0m\u001b[1;33m\u001b[0m\u001b[0m\n\u001b[0;32m    118\u001b[0m \u001b[1;33m\u001b[0m\u001b[0m\n",
      "\u001b[1;31mValueError\u001b[0m: rate must be specified when data is a numpy array or list of audio samples."
     ]
    }
   ],
   "source": [
    "ipd.Audio('GTZAN/Data/genres_original/blues/blues.00000.wav')"
   ]
  },
  {
   "cell_type": "code",
   "execution_count": null,
   "id": "df43a9ab-284b-420c-9f98-64e643875887",
   "metadata": {},
   "outputs": [],
   "source": [
    "import librosa as alib"
   ]
  },
  {
   "cell_type": "code",
   "execution_count": null,
   "id": "c17cdbf8-8c13-429d-8567-9435a32ed551",
   "metadata": {},
   "outputs": [],
   "source": [
    "signal,sample_rate = alib.load('GTZAN/Data/genres_original/blues/blues.00000.wav')"
   ]
  },
  {
   "cell_type": "code",
   "execution_count": null,
   "id": "0d0e02d0-3aff-4231-a9ad-b87d6abc9984",
   "metadata": {},
   "outputs": [],
   "source": [
    "signal"
   ]
  },
  {
   "cell_type": "code",
   "execution_count": null,
   "id": "cc34df08-96dd-4d92-b32b-52d3e5561d2e",
   "metadata": {},
   "outputs": [],
   "source": [
    "sample_rate"
   ]
  },
  {
   "cell_type": "code",
   "execution_count": null,
   "id": "db968775-4025-4f01-a7b7-440d675243ea",
   "metadata": {},
   "outputs": [],
   "source": [
    "len(signal)"
   ]
  },
  {
   "cell_type": "code",
   "execution_count": null,
   "id": "a0592a8d-d514-4041-823a-ae488fd66905",
   "metadata": {},
   "outputs": [],
   "source": [
    "import pandas as pd"
   ]
  },
  {
   "cell_type": "code",
   "execution_count": null,
   "id": "78b9b38c-6a2f-4cec-a190-8a2dc4d68755",
   "metadata": {},
   "outputs": [],
   "source": [
    "df=pd.read_csv('GTZAN/Data/features_30_sec.csv')"
   ]
  },
  {
   "cell_type": "code",
   "execution_count": null,
   "id": "b21629db-dd82-445c-8ba4-decd290c1e31",
   "metadata": {
    "scrolled": true,
    "tags": []
   },
   "outputs": [],
   "source": [
    "df.info()"
   ]
  },
  {
   "cell_type": "code",
   "execution_count": null,
   "id": "58391b85-fbe1-4888-8dcd-165ba6013350",
   "metadata": {
    "scrolled": true,
    "tags": []
   },
   "outputs": [],
   "source": [
    "df.describe().T"
   ]
  },
  {
   "cell_type": "code",
   "execution_count": null,
   "id": "ba595485-d97d-40cd-8e87-41e9a1a862c5",
   "metadata": {},
   "outputs": [],
   "source": [
    "df.columns"
   ]
  },
  {
   "cell_type": "code",
   "execution_count": null,
   "id": "913893df-bd01-4d1e-b8d0-ca2b967b8f3a",
   "metadata": {},
   "outputs": [],
   "source": [
    "x=df.drop(['filename','label'],axis=1)\n",
    "y=df['label']"
   ]
  },
  {
   "cell_type": "code",
   "execution_count": null,
   "id": "e783df49-4ba2-40e0-b524-bf6f9d054024",
   "metadata": {},
   "outputs": [],
   "source": [
    "import os   ### to import all imtems in a folder in operationg system"
   ]
  },
  {
   "cell_type": "code",
   "execution_count": null,
   "id": "5f0a0357-82bc-4ac7-908e-aa607da6aefe",
   "metadata": {},
   "outputs": [],
   "source": [
    "os.listdir()"
   ]
  },
  {
   "cell_type": "code",
   "execution_count": null,
   "id": "8d5802e6-42bf-4dc4-9235-36e2755ce227",
   "metadata": {
    "scrolled": true,
    "tags": []
   },
   "outputs": [],
   "source": [
    "os.listdir('GTZAN/Data/genres_original/')"
   ]
  },
  {
   "cell_type": "code",
   "execution_count": null,
   "id": "e66aec77-535a-467b-9851-49a51edf535c",
   "metadata": {},
   "outputs": [],
   "source": [
    "import matplotlib.pyplot as plt\n",
    "import numpy as np\n",
    "import librosa.display as alibdisp"
   ]
  },
  {
   "cell_type": "code",
   "execution_count": null,
   "id": "91958a59-5874-428f-af7b-e65ac60d1cbd",
   "metadata": {},
   "outputs": [],
   "source": [
    "def show_signal(signal,sr):\n",
    "    signal = signal.astype(np.float32)\n",
    "    plt.figure(figsize=(10,3))\n",
    "    plt.title('Signal',size=12)\n",
    "    alibdisp.waveplot(signal,sr=sr)\n",
    "    plt.show()"
   ]
  },
  {
   "cell_type": "code",
   "execution_count": null,
   "id": "4009e815-7e26-464a-9353-507e07af014a",
   "metadata": {},
   "outputs": [],
   "source": [
    "directory ='GTZAN/Data/genres_original/'"
   ]
  },
  {
   "cell_type": "code",
   "execution_count": null,
   "id": "85e1b21c-39ef-4647-b8b6-a44ebc82e32c",
   "metadata": {
    "scrolled": true,
    "tags": []
   },
   "outputs": [],
   "source": [
    "all_feats=[]\n",
    "for folder in os.listdir(directory):\n",
    "    for file in os.listdir(directory+'/'+folder):\n",
    "        path=directory+'/'+folder+'/'+file\n",
    "        sig,rate=alib.load(path)\n",
    "        ch_stft=alib.feature.chroma_stft(sig,rate)\n",
    "        length=len(sig)\n",
    "        chroma_stft_mean=ch_stft.mean()\n",
    "        chroma_stft_var=ch_stft.var()\n",
    "        mfcc=alib.feature.mfcc(sig,rate)\n",
    "        mfcc_mean=mfcc.mean()\n",
    "        mfcc_var=mfcc.var()\n",
    "        all_feats += [[file,length,chroma_stft_mean,chroma_stft_var,mfcc_mean,mfcc_var,folder]]"
   ]
  },
  {
   "cell_type": "code",
   "execution_count": null,
   "id": "0aeda85c-89a7-411c-8d1c-7bd1a4c57d50",
   "metadata": {
    "scrolled": true,
    "tags": []
   },
   "outputs": [],
   "source": [
    "len(all_feats)"
   ]
  },
  {
   "cell_type": "code",
   "execution_count": null,
   "id": "56537fb6-c670-477c-b39a-8eb72387b174",
   "metadata": {},
   "outputs": [],
   "source": [
    "all_feats[:3]"
   ]
  },
  {
   "cell_type": "code",
   "execution_count": null,
   "id": "b5ea16e1-a357-49a7-96a8-5bf73f71a873",
   "metadata": {},
   "outputs": [],
   "source": [
    "mfcc.shape"
   ]
  },
  {
   "cell_type": "code",
   "execution_count": null,
   "id": "fa3d77b8-7f39-4c80-b9d6-9aca6a780149",
   "metadata": {},
   "outputs": [],
   "source": [
    "chroma_stft_var"
   ]
  },
  {
   "cell_type": "code",
   "execution_count": null,
   "id": "0ca07464-3ac2-4e86-b23d-2a19e7c94ae6",
   "metadata": {},
   "outputs": [],
   "source": [
    "ch_stft.shape"
   ]
  },
  {
   "cell_type": "code",
   "execution_count": null,
   "id": "34121160-c8cf-4505-97d4-cc2f8cee50d5",
   "metadata": {},
   "outputs": [],
   "source": [
    "ipd.Audio(path)"
   ]
  },
  {
   "cell_type": "code",
   "execution_count": null,
   "id": "fa51f279-aea4-4df2-b10c-220041bcf248",
   "metadata": {},
   "outputs": [],
   "source": [
    "show_signal(sig,rate)"
   ]
  },
  {
   "cell_type": "code",
   "execution_count": null,
   "id": "bd2e85fc-33d5-4c35-a050-1d3522394335",
   "metadata": {},
   "outputs": [],
   "source": []
  }
 ],
 "metadata": {
  "kernelspec": {
   "display_name": "Python 3",
   "language": "python",
   "name": "python3"
  },
  "language_info": {
   "codemirror_mode": {
    "name": "ipython",
    "version": 3
   },
   "file_extension": ".py",
   "mimetype": "text/x-python",
   "name": "python",
   "nbconvert_exporter": "python",
   "pygments_lexer": "ipython3",
   "version": "3.8.10"
  }
 },
 "nbformat": 4,
 "nbformat_minor": 5
}
